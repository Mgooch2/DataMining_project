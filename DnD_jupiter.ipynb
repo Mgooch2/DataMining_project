{
 "cells": [
  {
   "cell_type": "code",
   "execution_count": null,
   "id": "85330a6c",
   "metadata": {},
   "outputs": [],
   "source": [
    "from mlxtend.frequent_patterns import apriori, association_rules"
   ]
  },
  {
   "cell_type": "code",
   "execution_count": null,
   "id": "94f7fc4c",
   "metadata": {},
   "outputs": [],
   "source": [
    "pip install mlxtend"
   ]
  },
  {
   "cell_type": "code",
   "execution_count": 1,
   "id": "6af1ec0b",
   "metadata": {},
   "outputs": [],
   "source": [
    "import numpy as np"
   ]
  },
  {
   "cell_type": "code",
   "execution_count": 2,
   "id": "125ddf37",
   "metadata": {},
   "outputs": [],
   "source": [
    "import pandas as pd"
   ]
  },
  {
   "cell_type": "code",
   "execution_count": 3,
   "id": "541924ba",
   "metadata": {},
   "outputs": [],
   "source": [
    "data = pd.read_csv('dnd_chars_unique.csv')"
   ]
  },
  {
   "cell_type": "code",
   "execution_count": 4,
   "id": "b9da7d77",
   "metadata": {},
   "outputs": [
    {
     "data": {
      "text/html": [
       "<div>\n",
       "<style scoped>\n",
       "    .dataframe tbody tr th:only-of-type {\n",
       "        vertical-align: middle;\n",
       "    }\n",
       "\n",
       "    .dataframe tbody tr th {\n",
       "        vertical-align: top;\n",
       "    }\n",
       "\n",
       "    .dataframe thead th {\n",
       "        text-align: right;\n",
       "    }\n",
       "</style>\n",
       "<table border=\"1\" class=\"dataframe\">\n",
       "  <thead>\n",
       "    <tr style=\"text-align: right;\">\n",
       "      <th></th>\n",
       "      <th>background</th>\n",
       "      <th>justClass</th>\n",
       "      <th>level</th>\n",
       "      <th>HP</th>\n",
       "      <th>AC</th>\n",
       "      <th>processedRace</th>\n",
       "      <th>processedWeapons</th>\n",
       "    </tr>\n",
       "  </thead>\n",
       "  <tbody>\n",
       "    <tr>\n",
       "      <th>0</th>\n",
       "      <td>Outlander</td>\n",
       "      <td>Fighter</td>\n",
       "      <td>20</td>\n",
       "      <td>174</td>\n",
       "      <td>16</td>\n",
       "      <td>Human</td>\n",
       "      <td>Greatsword|Crossbow, Light</td>\n",
       "    </tr>\n",
       "    <tr>\n",
       "      <th>1</th>\n",
       "      <td>Sailor</td>\n",
       "      <td>Monk</td>\n",
       "      <td>20</td>\n",
       "      <td>181</td>\n",
       "      <td>20</td>\n",
       "      <td>Human</td>\n",
       "      <td>Spear|Dart|Unarmed Strike</td>\n",
       "    </tr>\n",
       "    <tr>\n",
       "      <th>2</th>\n",
       "      <td>Noble</td>\n",
       "      <td>Warlock</td>\n",
       "      <td>20</td>\n",
       "      <td>145</td>\n",
       "      <td>12</td>\n",
       "      <td>Aasimar</td>\n",
       "      <td>Handaxe|Dagger</td>\n",
       "    </tr>\n",
       "    <tr>\n",
       "      <th>3</th>\n",
       "      <td>Acolyte</td>\n",
       "      <td>Paladin</td>\n",
       "      <td>20</td>\n",
       "      <td>244</td>\n",
       "      <td>22</td>\n",
       "      <td>Human</td>\n",
       "      <td>Greatsword|Javelin</td>\n",
       "    </tr>\n",
       "    <tr>\n",
       "      <th>4</th>\n",
       "      <td>Sage</td>\n",
       "      <td>Druid</td>\n",
       "      <td>20</td>\n",
       "      <td>240</td>\n",
       "      <td>17</td>\n",
       "      <td>Human</td>\n",
       "      <td>Sickle|Quarterstaff</td>\n",
       "    </tr>\n",
       "  </tbody>\n",
       "</table>\n",
       "</div>"
      ],
      "text/plain": [
       "  background justClass  level   HP  AC processedRace  \\\n",
       "0  Outlander   Fighter     20  174  16         Human   \n",
       "1     Sailor      Monk     20  181  20         Human   \n",
       "2      Noble   Warlock     20  145  12       Aasimar   \n",
       "3    Acolyte   Paladin     20  244  22         Human   \n",
       "4       Sage     Druid     20  240  17         Human   \n",
       "\n",
       "             processedWeapons  \n",
       "0  Greatsword|Crossbow, Light  \n",
       "1   Spear|Dart|Unarmed Strike  \n",
       "2              Handaxe|Dagger  \n",
       "3          Greatsword|Javelin  \n",
       "4         Sickle|Quarterstaff  "
      ]
     },
     "execution_count": 4,
     "metadata": {},
     "output_type": "execute_result"
    }
   ],
   "source": [
    "data.head()"
   ]
  },
  {
   "cell_type": "code",
   "execution_count": 5,
   "id": "3752ca21",
   "metadata": {},
   "outputs": [
    {
     "data": {
      "text/plain": [
       "Index(['background', 'justClass', 'level', 'HP', 'AC', 'processedRace',\n",
       "       'processedWeapons'],\n",
       "      dtype='object')"
      ]
     },
     "execution_count": 5,
     "metadata": {},
     "output_type": "execute_result"
    }
   ],
   "source": [
    "data.columns"
   ]
  },
  {
   "cell_type": "code",
   "execution_count": 6,
   "id": "c9acc245",
   "metadata": {},
   "outputs": [
    {
     "data": {
      "text/plain": [
       "array(['Fighter', 'Monk', 'Warlock', 'Paladin', 'Druid', 'Cleric',\n",
       "       'Rogue', 'Barbarian', 'Sorcerer', 'Wizard', 'Ranger', 'Bard',\n",
       "       'Artificer', 'Fighter|Rogue', 'Barbarian|Fighter', 'Cleric|Rogue',\n",
       "       'Druid|Paladin|Barbarian',\n",
       "       'Rogue|Cleric|Bard|Fighter|Druid|Wizard', 'Bard|Warlock',\n",
       "       'Warlock|Sorcerer', 'Wizard|Rogue', 'Fighter|Cleric',\n",
       "       'Paladin|Warlock|Sorcerer|Fighter|Bard|Barbarian|Druid',\n",
       "       'Rogue|Fighter', 'Cleric|Druid|Monk|Paladin', 'Ranger|Druid',\n",
       "       'Paladin|Sorcerer', 'Ranger|Rogue|Fighter', 'Fighter|Barbarian',\n",
       "       'Ranger|Fighter', 'Paladin|Fighter', 'Rogue|Bard|Fighter|Warlock',\n",
       "       'Ranger|Cleric', 'Monk|Rogue', 'Bard|Fighter|Rogue',\n",
       "       'Rogue|Cleric|Bard', 'Warlock|Bard', 'Fighter|Warlock',\n",
       "       'Artificer|Rogue', 'Barbarian|Druid', 'Ranger|Rogue', 'Rogue|Bard',\n",
       "       'Ranger|Sorcerer', 'Wizard|Cleric|Druid', 'Rogue|Monk',\n",
       "       'Monk|Ranger', 'Paladin|Bard|Warlock', 'Barbarian|Paladin',\n",
       "       'Monk|Barbarian', 'Wizard|Warlock', 'Rogue|Warlock',\n",
       "       'Fighter|Paladin', 'Fighter|Warlock|Bard', 'Cleric|Fighter',\n",
       "       'Druid|Fighter', 'Cleric|Paladin', 'Cleric|Ranger', 'Monk|Druid',\n",
       "       'Rogue|Wizard', 'Paladin|Barbarian', 'Fighter|Warlock|Ranger',\n",
       "       'Druid|Ranger', 'Paladin|Cleric', 'Druid|Monk', 'Cleric|Wizard',\n",
       "       'Fighter|Ranger', 'Fighter|Rogue|Ranger', 'Wizard|Fighter',\n",
       "       'Paladin|Wizard', 'Druid|Barbarian', 'Rogue|Cleric',\n",
       "       'Barbarian|Bard|Monk', 'Rogue|Ranger', 'Paladin|Bard',\n",
       "       'Cleric|Sorcerer', 'Fighter|Warlock|Sorcerer',\n",
       "       'Fighter|Sorcerer|Wizard', 'Bard|Rogue|Warlock', 'Rogue|Sorcerer',\n",
       "       'Barbarian|Sorcerer', 'Bard|Sorcerer',\n",
       "       'Barbarian|Bard|Cleric|Druid|Fighter|Monk|Paladin|Ranger|Rogue|Sorcerer',\n",
       "       'Rogue|Sorcerer|Fighter', 'Bard|Rogue|Fighter', 'Barbarian|Bard',\n",
       "       'Ranger|Warlock', 'Sorcerer|Monk', 'Warlock|Barbarian',\n",
       "       'Fighter|Sorcerer', 'Fighter|Ranger|Rogue', 'Monk|Fighter',\n",
       "       'Paladin|Warlock|Bard', 'Sorcerer|Warlock', 'Cleric|Warlock',\n",
       "       'Bard|Rogue', 'Barbarian|Monk|Paladin|Fighter', 'Cleric|Druid',\n",
       "       'Barbarian|Rogue', 'Sorcerer|Fighter', 'Paladin|Warlock',\n",
       "       'Sorcerer|Barbarian', 'Druid|Warlock|Monk', 'Warlock|Paladin',\n",
       "       'Fighter|Wizard', 'Bard|Monk', 'Ranger|Paladin', 'Druid|Rogue',\n",
       "       'Barbarian|Cleric', 'Fighter|Artificer', 'Druid|Bard',\n",
       "       'Fighter|Bard', 'Rogue|Paladin', 'Sorcerer|Warlock|Bard',\n",
       "       'Wizard|Cleric', 'Druid|Cleric', 'Monk|Cleric',\n",
       "       'Fighter|Wizard|Rogue', 'Cleric|Monk', 'Fighter|Druid',\n",
       "       'Fighter|Sorcerer|Paladin', 'Warlock|Cleric', 'Sorcerer|Bard',\n",
       "       'Paladin|Druid', 'Artificer|Wizard', 'Barbarian|Warlock',\n",
       "       'Druid|Wizard', 'Fighter|Bard|Warlock|Rogue|Sorcerer',\n",
       "       'Cleric|Artificer', 'Warlock|Fighter', 'Bard|Druid',\n",
       "       'Barbarian|Ranger', 'Barbarian|Fighter|Wizard', 'Sorcerer|Wizard',\n",
       "       'Rogue|Bard|Ranger', 'Monk|Wizard', 'Warlock|Rogue',\n",
       "       'Ranger|Barbarian', 'Bard|Paladin', 'Wizard|Druid', 'Bard|Fighter',\n",
       "       'Wizard|Bard', 'Cleric|Bard', 'Bard|Cleric', 'Bard|Barbarian',\n",
       "       'Artificer|Fighter|Wizard', 'Barbarian|Monk', 'Rogue|Druid',\n",
       "       'Ranger|Wizard', 'Monk|Bard', 'Paladin|Rogue'], dtype=object)"
      ]
     },
     "execution_count": 6,
     "metadata": {},
     "output_type": "execute_result"
    }
   ],
   "source": [
    "data.justClass.unique()"
   ]
  },
  {
   "cell_type": "code",
   "execution_count": null,
   "id": "663e417e",
   "metadata": {},
   "outputs": [],
   "source": []
  }
 ],
 "metadata": {
  "kernelspec": {
   "display_name": "Python 3 (ipykernel)",
   "language": "python",
   "name": "python3"
  },
  "language_info": {
   "codemirror_mode": {
    "name": "ipython",
    "version": 3
   },
   "file_extension": ".py",
   "mimetype": "text/x-python",
   "name": "python",
   "nbconvert_exporter": "python",
   "pygments_lexer": "ipython3",
   "version": "3.8.12"
  }
 },
 "nbformat": 4,
 "nbformat_minor": 5
}
